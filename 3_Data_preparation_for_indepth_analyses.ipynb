{
 "cells": [
  {
   "cell_type": "markdown",
   "metadata": {},
   "source": [
    "#  3  DATA PREPARATION FOR INDEPTH ANALYSES\n",
    "\n",
    "***\n",
    "\n",
    "##  3.1    Importing foundational libraries"
   ]
  },
  {
   "cell_type": "markdown",
   "metadata": {},
   "source": [
    "\n",
    "### Access to the system's parameters (https://docs.python.org/3/library/sys.html)"
   ]
  },
  {
   "cell_type": "code",
   "execution_count": 1,
   "metadata": {},
   "outputs": [
    {
     "name": "stdout",
     "output_type": "stream",
     "text": [
      "Python version: 3.6.6 | packaged by conda-forge | (default, Jul 26 2018, 11:48:23) [MSC v.1900 64 bit (AMD64)]\n",
      "----------------------------------------------------------------------------------------------------\n"
     ]
    }
   ],
   "source": [
    "import sys \n",
    "print(\"Python version: {}\". format(sys.version))\n",
    "print('-'*100)"
   ]
  },
  {
   "cell_type": "markdown",
   "metadata": {},
   "source": [
    "\n",
    "### Pandas is a collection of functions which comes in form of dataframes with SQL-like features for data processing and analysis"
   ]
  },
  {
   "cell_type": "code",
   "execution_count": 2,
   "metadata": {},
   "outputs": [
    {
     "name": "stdout",
     "output_type": "stream",
     "text": [
      "pandas version: 0.20.1\n"
     ]
    }
   ],
   "source": [
    "import pandas as pd \n",
    "print(\"pandas version: {}\". format(pd.__version__))"
   ]
  },
  {
   "cell_type": "markdown",
   "metadata": {},
   "source": [
    "\n",
    "### Matplotlib gives us a collection of functions for scientific and publication-ready visualization"
   ]
  },
  {
   "cell_type": "code",
   "execution_count": 3,
   "metadata": {},
   "outputs": [
    {
     "name": "stdout",
     "output_type": "stream",
     "text": [
      "matplotlib version: 2.0.2\n"
     ]
    }
   ],
   "source": [
    "import matplotlib \n",
    "print(\"matplotlib version: {}\". format(matplotlib.__version__))"
   ]
  },
  {
   "cell_type": "markdown",
   "metadata": {},
   "source": [
    "\n",
    "### For mathematical and scientific computing a good starting package will be NumPy"
   ]
  },
  {
   "cell_type": "code",
   "execution_count": 4,
   "metadata": {},
   "outputs": [
    {
     "name": "stdout",
     "output_type": "stream",
     "text": [
      "NumPy version: 1.14.2\n"
     ]
    }
   ],
   "source": [
    "import numpy as np \n",
    "print(\"NumPy version: {}\". format(np.__version__))"
   ]
  },
  {
   "cell_type": "markdown",
   "metadata": {},
   "source": [
    "\n",
    "### SciPy also has a pretty good collection of functions for scientific computing and advanced mathematics"
   ]
  },
  {
   "cell_type": "code",
   "execution_count": 5,
   "metadata": {},
   "outputs": [
    {
     "name": "stdout",
     "output_type": "stream",
     "text": [
      "SciPy version: 1.2.1\n"
     ]
    }
   ],
   "source": [
    "import scipy as sp \n",
    "print(\"SciPy version: {}\". format(sp.__version__)) "
   ]
  },
  {
   "cell_type": "markdown",
   "metadata": {},
   "source": [
    "\n",
    "### Sklearn provides a range of dazzling machine learning algorithms which is quite effective for data analyses"
   ]
  },
  {
   "cell_type": "code",
   "execution_count": 6,
   "metadata": {},
   "outputs": [
    {
     "name": "stdout",
     "output_type": "stream",
     "text": [
      "scikit-learn version: 0.18.2\n"
     ]
    }
   ],
   "source": [
    "import sklearn \n",
    "print(\"scikit-learn version: {}\". format(sklearn.__version__))"
   ]
  },
  {
   "cell_type": "markdown",
   "metadata": {},
   "source": [
    "\n",
    "### Let me add IPython to it. Or perhaps, import it for its display funtion in order to beautify the pandas dataframes in the jupyter notebook"
   ]
  },
  {
   "cell_type": "code",
   "execution_count": 7,
   "metadata": {},
   "outputs": [
    {
     "name": "stdout",
     "output_type": "stream",
     "text": [
      "IPython version: 5.3.0\n"
     ]
    }
   ],
   "source": [
    "import IPython\n",
    "from IPython import display \n",
    "print(\"IPython version: {}\". format(IPython.__version__)) "
   ]
  },
  {
   "cell_type": "markdown",
   "metadata": {},
   "source": [
    "\n",
    "### Who doesn't factor miscellaneous functions? Two most import ones: Time and randomization. \n",
    ">### Let me also ignore warnings such as deprecation alerts, etc. for a smooth guide."
   ]
  },
  {
   "cell_type": "code",
   "execution_count": 8,
   "metadata": {},
   "outputs": [
    {
     "name": "stdout",
     "output_type": "stream",
     "text": [
      "----------------------------------------------------------------------------------------------------\n"
     ]
    }
   ],
   "source": [
    "import random\n",
    "import time\n",
    "import warnings\n",
    "warnings.filterwarnings('ignore')\n",
    "print('-'*100)"
   ]
  },
  {
   "cell_type": "markdown",
   "metadata": {},
   "source": [
    "***\n",
    "##  3.2    Importing the data modeling libraries"
   ]
  },
  {
   "cell_type": "markdown",
   "metadata": {},
   "source": [
    "### Importing models / algorithms for the analyses"
   ]
  },
  {
   "cell_type": "code",
   "execution_count": 9,
   "metadata": {
    "collapsed": true
   },
   "outputs": [],
   "source": [
    "from sklearn import svm, tree, linear_model, neighbors, naive_bayes, ensemble, discriminant_analysis, gaussian_process\n",
    "from xgboost import XGBClassifier"
   ]
  },
  {
   "cell_type": "markdown",
   "metadata": {},
   "source": [
    "### Importing some model helpers from the libraries in section 3.1"
   ]
  },
  {
   "cell_type": "code",
   "execution_count": 10,
   "metadata": {
    "collapsed": true
   },
   "outputs": [],
   "source": [
    "from sklearn.preprocessing import OneHotEncoder, LabelEncoder\n",
    "from sklearn import feature_selection\n",
    "from sklearn import model_selection\n",
    "from sklearn import metrics"
   ]
  },
  {
   "cell_type": "markdown",
   "metadata": {},
   "source": [
    "### Loading other functions for a good visualization of the entire modeling process and analysis"
   ]
  },
  {
   "cell_type": "code",
   "execution_count": 11,
   "metadata": {},
   "outputs": [
    {
     "data": {
      "text/html": [
       "<script type=\"text/javascript\">window.PlotlyConfig = {MathJaxConfig: 'local'};</script><script type=\"text/javascript\">if (window.MathJax) {MathJax.Hub.Config({SVG: {font: \"STIX-Web\"}});}</script><script>requirejs.config({paths: { 'plotly': ['https://cdn.plot.ly/plotly-latest.min']},});if(!window._Plotly) {require(['plotly'],function(plotly) {window._Plotly=plotly;});}</script>"
      ],
      "text/vnd.plotly.v1+html": [
       "<script type=\"text/javascript\">window.PlotlyConfig = {MathJaxConfig: 'local'};</script><script type=\"text/javascript\">if (window.MathJax) {MathJax.Hub.Config({SVG: {font: \"STIX-Web\"}});}</script><script>requirejs.config({paths: { 'plotly': ['https://cdn.plot.ly/plotly-latest.min']},});if(!window._Plotly) {require(['plotly'],function(plotly) {window._Plotly=plotly;});}</script>"
      ]
     },
     "metadata": {},
     "output_type": "display_data"
    }
   ],
   "source": [
    "import matplotlib as mpl\n",
    "import matplotlib.pyplot as plt\n",
    "import matplotlib.pylab as pylab\n",
    "import seaborn as sns\n",
    "from pandas.tools.plotting import scatter_matrix\n",
    "from plotly import tools\n",
    "import plotly.plotly as py\n",
    "import plotly.figure_factory as ff\n",
    "import plotly.graph_objs as go\n",
    "from plotly.offline import download_plotlyjs, init_notebook_mode, plot, iplot\n",
    "init_notebook_mode(connected=True)"
   ]
  },
  {
   "cell_type": "markdown",
   "metadata": {},
   "source": [
    "***\n",
    "##  3.3 Knowing the Data We Will Deal With\n",
    "\n",
    "### In this section, we perform a first initial attempt to know what the data is made up of. Fortunately, ANZ and DataCastle gave an elaboratate meaning of what to expect."
   ]
  },
  {
   "cell_type": "markdown",
   "metadata": {},
   "source": [
    "***\n",
    "### INPUT VARIABLES\n",
    "***\n",
    "\n",
    "### Bank client data:\n",
    ">#### 1. Age (numeric)\n",
    ">#### 2. Job: type of job (categorical: 'admin.','blue-collar','entrepreneur','housemaid','management','retired','self-employed','services','student','technician','unemployed','unknown')\n",
    ">#### 3. Marital : marital status (categorical: 'divorced','married','single','unknown'; note: 'divorced' means divorced or widowed)\n",
    ">#### 4. Education (categorical: 'basic.4y','basic.6y','basic.9y','high.school','illiterate','professional.course','university.degree','unknown')\n",
    ">#### 5. Default: has credit in default? (categorical: 'no','yes','unknown')\n",
    ">#### 6. Housing: has home loan? (categorical: 'no','yes','unknown')\n",
    ">#### 7. Loan: has personal loan? (categorical: 'no','yes','unknown')\n",
    " \n",
    "### Related with the last contact of the current campaign:\n",
    ">#### 8. Contact: contact communication type (categorical: 'cellular','telephone') \n",
    ">#### 9. Month: last contact month of year (categorical: 'jan', 'feb', 'mar', ..., 'nov', 'dec')\n",
    ">#### 10. Day_of_week: last contact day of the week (categorical: 'mon','tue','wed','thu','fri')\n",
    ">#### 11. Duration: last contact duration, in seconds (numeric). Important note: this attribute highly affects the output target (e.g., if duration=0 then y='no'). Yet, the duration is not known before a call is performed. Also, after the end of the call y is obviously known. Thus, this input should only be included for benchmark purposes and should be discarded if the intention is to have a realistic predictive model.\n",
    "\n",
    "###  Other attributes:\n",
    ">#### 12. Campaign: number of contacts performed during this campaign and for this client (numeric, includes last contact)\n",
    ">#### 13. Pdays: number of days that passed by after the client was last contacted from a previous campaign (numeric; 999 means client was not previously contacted)\n",
    ">#### 14. Previous: number of contacts performed before this campaign and for this client (numeric)\n",
    ">#### 15. Poutcome: outcome of the previous marketing campaign (categorical: 'failure','nonexistent','success')\n",
    "\n",
    "###  Social and economic context attributes：\n",
    ">#### 16. Emp.var.rate: employment variation rate. quarterly indicator (numeric)\n",
    ">#### 17. Cons.price.idx: consumer price index. monthly indicator (numeric) \n",
    ">#### 18. Cons.conf.idx: consumer confidence index. monthly indicator (numeric) \n",
    ">#### 19. Euribor3m: euribor 3 month rate. daily indicator (numeric)\n",
    ">#### 20. Nr.employed: number of employees. quarterly indicator (numeric)\n",
    "\n",
    "### OUTPUT VARIABLE (desired target):\n",
    ">#### 21. y - has the client subscribed a term deposit? (binary: 'yes','no')\n",
    "\n",
    "### Despite this elaborate information, we at least want to confirm the data content is what we expect and that's what we'll be working with it through this work"
   ]
  },
  {
   "cell_type": "markdown",
   "metadata": {},
   "source": [
    "\n",
    "***\n",
    "### Declaring path to the file:\n",
    ">#### You should have about 37069 rows with 21 columns"
   ]
  },
  {
   "cell_type": "code",
   "execution_count": 12,
   "metadata": {},
   "outputs": [
    {
     "name": "stdout",
     "output_type": "stream",
     "text": [
      "We have 37069 rows with 21 columns.\n"
     ]
    }
   ],
   "source": [
    "location =\"C:/Users/King/Documents/GitHub/Customer-Response-Modeling/\"\n",
    "file = \"DataCastleData.csv\"\n",
    "\n",
    "df = pd.read_csv(location + file)\n",
    "actual_df = df.copy()\n",
    "\n",
    "# Viewing the shape of our dataset\n",
    "df.shape\n",
    "\n",
    "print(\"We have \" + str(df.shape[0]) + \" rows with \" + str(df.shape[1]) +\" columns.\")"
   ]
  },
  {
   "cell_type": "markdown",
   "metadata": {},
   "source": [
    "# ***\n",
    "##  3.4    A Statistical Overview of the Data\n",
    "***\n",
    ">### We have 37069 rows (entries) with 21 columns which include the target field (columns)\n",
    ">### Let's have a peep of how it really looks like..."
   ]
  },
  {
   "cell_type": "markdown",
   "metadata": {},
   "source": [
    "#### Viewing the first five rows (the head) of our dataset"
   ]
  },
  {
   "cell_type": "code",
   "execution_count": 13,
   "metadata": {},
   "outputs": [
    {
     "data": {
      "text/html": [
       "<div>\n",
       "<style>\n",
       "    .dataframe thead tr:only-child th {\n",
       "        text-align: right;\n",
       "    }\n",
       "\n",
       "    .dataframe thead th {\n",
       "        text-align: left;\n",
       "    }\n",
       "\n",
       "    .dataframe tbody tr th {\n",
       "        vertical-align: top;\n",
       "    }\n",
       "</style>\n",
       "<table border=\"1\" class=\"dataframe\">\n",
       "  <thead>\n",
       "    <tr style=\"text-align: right;\">\n",
       "      <th></th>\n",
       "      <th>age</th>\n",
       "      <th>job</th>\n",
       "      <th>marital</th>\n",
       "      <th>education</th>\n",
       "      <th>default</th>\n",
       "      <th>housing</th>\n",
       "      <th>loan</th>\n",
       "      <th>contact</th>\n",
       "      <th>month</th>\n",
       "      <th>day_of_week</th>\n",
       "      <th>...</th>\n",
       "      <th>campaign</th>\n",
       "      <th>pdays</th>\n",
       "      <th>previous</th>\n",
       "      <th>poutcome</th>\n",
       "      <th>emp.var.rate</th>\n",
       "      <th>cons.price.idx</th>\n",
       "      <th>cons.conf.idx</th>\n",
       "      <th>euribor3m</th>\n",
       "      <th>nr.employed</th>\n",
       "      <th>y</th>\n",
       "    </tr>\n",
       "  </thead>\n",
       "  <tbody>\n",
       "    <tr>\n",
       "      <th>0</th>\n",
       "      <td>26</td>\n",
       "      <td>admin.</td>\n",
       "      <td>single</td>\n",
       "      <td>university.degree</td>\n",
       "      <td>no</td>\n",
       "      <td>no</td>\n",
       "      <td>no</td>\n",
       "      <td>telephone</td>\n",
       "      <td>aug</td>\n",
       "      <td>mon</td>\n",
       "      <td>...</td>\n",
       "      <td>1</td>\n",
       "      <td>3</td>\n",
       "      <td>1</td>\n",
       "      <td>success</td>\n",
       "      <td>-1.7</td>\n",
       "      <td>94.027</td>\n",
       "      <td>-38.3</td>\n",
       "      <td>0.904</td>\n",
       "      <td>4991.6</td>\n",
       "      <td>yes</td>\n",
       "    </tr>\n",
       "    <tr>\n",
       "      <th>1</th>\n",
       "      <td>35</td>\n",
       "      <td>blue-collar</td>\n",
       "      <td>married</td>\n",
       "      <td>unknown</td>\n",
       "      <td>no</td>\n",
       "      <td>yes</td>\n",
       "      <td>no</td>\n",
       "      <td>cellular</td>\n",
       "      <td>may</td>\n",
       "      <td>thu</td>\n",
       "      <td>...</td>\n",
       "      <td>3</td>\n",
       "      <td>999</td>\n",
       "      <td>0</td>\n",
       "      <td>nonexistent</td>\n",
       "      <td>-1.8</td>\n",
       "      <td>92.893</td>\n",
       "      <td>-46.2</td>\n",
       "      <td>1.327</td>\n",
       "      <td>5099.1</td>\n",
       "      <td>yes</td>\n",
       "    </tr>\n",
       "    <tr>\n",
       "      <th>2</th>\n",
       "      <td>42</td>\n",
       "      <td>self-employed</td>\n",
       "      <td>married</td>\n",
       "      <td>university.degree</td>\n",
       "      <td>no</td>\n",
       "      <td>yes</td>\n",
       "      <td>no</td>\n",
       "      <td>cellular</td>\n",
       "      <td>apr</td>\n",
       "      <td>tue</td>\n",
       "      <td>...</td>\n",
       "      <td>1</td>\n",
       "      <td>999</td>\n",
       "      <td>1</td>\n",
       "      <td>failure</td>\n",
       "      <td>-1.8</td>\n",
       "      <td>93.075</td>\n",
       "      <td>-47.1</td>\n",
       "      <td>1.423</td>\n",
       "      <td>5099.1</td>\n",
       "      <td>yes</td>\n",
       "    </tr>\n",
       "    <tr>\n",
       "      <th>3</th>\n",
       "      <td>46</td>\n",
       "      <td>housemaid</td>\n",
       "      <td>married</td>\n",
       "      <td>high.school</td>\n",
       "      <td>no</td>\n",
       "      <td>yes</td>\n",
       "      <td>no</td>\n",
       "      <td>cellular</td>\n",
       "      <td>aug</td>\n",
       "      <td>fri</td>\n",
       "      <td>...</td>\n",
       "      <td>1</td>\n",
       "      <td>999</td>\n",
       "      <td>0</td>\n",
       "      <td>nonexistent</td>\n",
       "      <td>-2.9</td>\n",
       "      <td>92.201</td>\n",
       "      <td>-31.4</td>\n",
       "      <td>0.881</td>\n",
       "      <td>5076.2</td>\n",
       "      <td>yes</td>\n",
       "    </tr>\n",
       "    <tr>\n",
       "      <th>4</th>\n",
       "      <td>41</td>\n",
       "      <td>services</td>\n",
       "      <td>single</td>\n",
       "      <td>high.school</td>\n",
       "      <td>no</td>\n",
       "      <td>yes</td>\n",
       "      <td>yes</td>\n",
       "      <td>cellular</td>\n",
       "      <td>apr</td>\n",
       "      <td>wed</td>\n",
       "      <td>...</td>\n",
       "      <td>2</td>\n",
       "      <td>999</td>\n",
       "      <td>0</td>\n",
       "      <td>nonexistent</td>\n",
       "      <td>-1.8</td>\n",
       "      <td>93.075</td>\n",
       "      <td>-47.1</td>\n",
       "      <td>1.415</td>\n",
       "      <td>5099.1</td>\n",
       "      <td>yes</td>\n",
       "    </tr>\n",
       "  </tbody>\n",
       "</table>\n",
       "<p>5 rows × 21 columns</p>\n",
       "</div>"
      ],
      "text/plain": [
       "   age            job  marital          education default housing loan  \\\n",
       "0   26         admin.   single  university.degree      no      no   no   \n",
       "1   35    blue-collar  married            unknown      no     yes   no   \n",
       "2   42  self-employed  married  university.degree      no     yes   no   \n",
       "3   46      housemaid  married        high.school      no     yes   no   \n",
       "4   41       services   single        high.school      no     yes  yes   \n",
       "\n",
       "     contact month day_of_week ...   campaign  pdays  previous     poutcome  \\\n",
       "0  telephone   aug         mon ...          1      3         1      success   \n",
       "1   cellular   may         thu ...          3    999         0  nonexistent   \n",
       "2   cellular   apr         tue ...          1    999         1      failure   \n",
       "3   cellular   aug         fri ...          1    999         0  nonexistent   \n",
       "4   cellular   apr         wed ...          2    999         0  nonexistent   \n",
       "\n",
       "  emp.var.rate  cons.price.idx  cons.conf.idx  euribor3m  nr.employed    y  \n",
       "0         -1.7          94.027          -38.3      0.904       4991.6  yes  \n",
       "1         -1.8          92.893          -46.2      1.327       5099.1  yes  \n",
       "2         -1.8          93.075          -47.1      1.423       5099.1  yes  \n",
       "3         -2.9          92.201          -31.4      0.881       5076.2  yes  \n",
       "4         -1.8          93.075          -47.1      1.415       5099.1  yes  \n",
       "\n",
       "[5 rows x 21 columns]"
      ]
     },
     "execution_count": 13,
     "metadata": {},
     "output_type": "execute_result"
    }
   ],
   "source": [
    "df.head()"
   ]
  },
  {
   "cell_type": "markdown",
   "metadata": {},
   "source": [
    "#### Viewing the last five rows (the tail) of our dataset"
   ]
  },
  {
   "cell_type": "code",
   "execution_count": 14,
   "metadata": {},
   "outputs": [
    {
     "data": {
      "text/html": [
       "<div>\n",
       "<style>\n",
       "    .dataframe thead tr:only-child th {\n",
       "        text-align: right;\n",
       "    }\n",
       "\n",
       "    .dataframe thead th {\n",
       "        text-align: left;\n",
       "    }\n",
       "\n",
       "    .dataframe tbody tr th {\n",
       "        vertical-align: top;\n",
       "    }\n",
       "</style>\n",
       "<table border=\"1\" class=\"dataframe\">\n",
       "  <thead>\n",
       "    <tr style=\"text-align: right;\">\n",
       "      <th></th>\n",
       "      <th>age</th>\n",
       "      <th>job</th>\n",
       "      <th>marital</th>\n",
       "      <th>education</th>\n",
       "      <th>default</th>\n",
       "      <th>housing</th>\n",
       "      <th>loan</th>\n",
       "      <th>contact</th>\n",
       "      <th>month</th>\n",
       "      <th>day_of_week</th>\n",
       "      <th>...</th>\n",
       "      <th>campaign</th>\n",
       "      <th>pdays</th>\n",
       "      <th>previous</th>\n",
       "      <th>poutcome</th>\n",
       "      <th>emp.var.rate</th>\n",
       "      <th>cons.price.idx</th>\n",
       "      <th>cons.conf.idx</th>\n",
       "      <th>euribor3m</th>\n",
       "      <th>nr.employed</th>\n",
       "      <th>y</th>\n",
       "    </tr>\n",
       "  </thead>\n",
       "  <tbody>\n",
       "    <tr>\n",
       "      <th>37064</th>\n",
       "      <td>37</td>\n",
       "      <td>unemployed</td>\n",
       "      <td>married</td>\n",
       "      <td>professional.course</td>\n",
       "      <td>no</td>\n",
       "      <td>no</td>\n",
       "      <td>no</td>\n",
       "      <td>telephone</td>\n",
       "      <td>may</td>\n",
       "      <td>tue</td>\n",
       "      <td>...</td>\n",
       "      <td>1</td>\n",
       "      <td>999</td>\n",
       "      <td>0</td>\n",
       "      <td>nonexistent</td>\n",
       "      <td>1.1</td>\n",
       "      <td>93.994</td>\n",
       "      <td>-36.4</td>\n",
       "      <td>4.857</td>\n",
       "      <td>5191.0</td>\n",
       "      <td>no</td>\n",
       "    </tr>\n",
       "    <tr>\n",
       "      <th>37065</th>\n",
       "      <td>59</td>\n",
       "      <td>admin.</td>\n",
       "      <td>married</td>\n",
       "      <td>high.school</td>\n",
       "      <td>no</td>\n",
       "      <td>yes</td>\n",
       "      <td>no</td>\n",
       "      <td>cellular</td>\n",
       "      <td>apr</td>\n",
       "      <td>wed</td>\n",
       "      <td>...</td>\n",
       "      <td>2</td>\n",
       "      <td>999</td>\n",
       "      <td>0</td>\n",
       "      <td>nonexistent</td>\n",
       "      <td>-1.8</td>\n",
       "      <td>93.075</td>\n",
       "      <td>-47.1</td>\n",
       "      <td>1.445</td>\n",
       "      <td>5099.1</td>\n",
       "      <td>no</td>\n",
       "    </tr>\n",
       "    <tr>\n",
       "      <th>37066</th>\n",
       "      <td>48</td>\n",
       "      <td>blue-collar</td>\n",
       "      <td>married</td>\n",
       "      <td>professional.course</td>\n",
       "      <td>unknown</td>\n",
       "      <td>yes</td>\n",
       "      <td>no</td>\n",
       "      <td>cellular</td>\n",
       "      <td>aug</td>\n",
       "      <td>thu</td>\n",
       "      <td>...</td>\n",
       "      <td>3</td>\n",
       "      <td>999</td>\n",
       "      <td>0</td>\n",
       "      <td>nonexistent</td>\n",
       "      <td>1.4</td>\n",
       "      <td>93.444</td>\n",
       "      <td>-36.1</td>\n",
       "      <td>4.964</td>\n",
       "      <td>5228.1</td>\n",
       "      <td>no</td>\n",
       "    </tr>\n",
       "    <tr>\n",
       "      <th>37067</th>\n",
       "      <td>55</td>\n",
       "      <td>retired</td>\n",
       "      <td>married</td>\n",
       "      <td>high.school</td>\n",
       "      <td>no</td>\n",
       "      <td>yes</td>\n",
       "      <td>no</td>\n",
       "      <td>telephone</td>\n",
       "      <td>may</td>\n",
       "      <td>tue</td>\n",
       "      <td>...</td>\n",
       "      <td>5</td>\n",
       "      <td>999</td>\n",
       "      <td>0</td>\n",
       "      <td>nonexistent</td>\n",
       "      <td>1.1</td>\n",
       "      <td>93.994</td>\n",
       "      <td>-36.4</td>\n",
       "      <td>4.857</td>\n",
       "      <td>5191.0</td>\n",
       "      <td>no</td>\n",
       "    </tr>\n",
       "    <tr>\n",
       "      <th>37068</th>\n",
       "      <td>45</td>\n",
       "      <td>management</td>\n",
       "      <td>single</td>\n",
       "      <td>basic.9y</td>\n",
       "      <td>no</td>\n",
       "      <td>yes</td>\n",
       "      <td>no</td>\n",
       "      <td>telephone</td>\n",
       "      <td>jun</td>\n",
       "      <td>fri</td>\n",
       "      <td>...</td>\n",
       "      <td>2</td>\n",
       "      <td>999</td>\n",
       "      <td>0</td>\n",
       "      <td>nonexistent</td>\n",
       "      <td>1.4</td>\n",
       "      <td>94.465</td>\n",
       "      <td>-41.8</td>\n",
       "      <td>4.959</td>\n",
       "      <td>5228.1</td>\n",
       "      <td>no</td>\n",
       "    </tr>\n",
       "  </tbody>\n",
       "</table>\n",
       "<p>5 rows × 21 columns</p>\n",
       "</div>"
      ],
      "text/plain": [
       "       age          job  marital            education  default housing loan  \\\n",
       "37064   37   unemployed  married  professional.course       no      no   no   \n",
       "37065   59       admin.  married          high.school       no     yes   no   \n",
       "37066   48  blue-collar  married  professional.course  unknown     yes   no   \n",
       "37067   55      retired  married          high.school       no     yes   no   \n",
       "37068   45   management   single             basic.9y       no     yes   no   \n",
       "\n",
       "         contact month day_of_week ...  campaign  pdays  previous  \\\n",
       "37064  telephone   may         tue ...         1    999         0   \n",
       "37065   cellular   apr         wed ...         2    999         0   \n",
       "37066   cellular   aug         thu ...         3    999         0   \n",
       "37067  telephone   may         tue ...         5    999         0   \n",
       "37068  telephone   jun         fri ...         2    999         0   \n",
       "\n",
       "          poutcome emp.var.rate  cons.price.idx  cons.conf.idx  euribor3m  \\\n",
       "37064  nonexistent          1.1          93.994          -36.4      4.857   \n",
       "37065  nonexistent         -1.8          93.075          -47.1      1.445   \n",
       "37066  nonexistent          1.4          93.444          -36.1      4.964   \n",
       "37067  nonexistent          1.1          93.994          -36.4      4.857   \n",
       "37068  nonexistent          1.4          94.465          -41.8      4.959   \n",
       "\n",
       "       nr.employed   y  \n",
       "37064       5191.0  no  \n",
       "37065       5099.1  no  \n",
       "37066       5228.1  no  \n",
       "37067       5191.0  no  \n",
       "37068       5228.1  no  \n",
       "\n",
       "[5 rows x 21 columns]"
      ]
     },
     "execution_count": 14,
     "metadata": {},
     "output_type": "execute_result"
    }
   ],
   "source": [
    "df.tail()"
   ]
  },
  {
   "cell_type": "markdown",
   "metadata": {},
   "source": [
    "#### Exploring the data in a summarized way ...\n",
    ">#### Getting descriptive statistics that summarize the central tendency, dispersion and shape of a dataset’s distribution, excluding NaN values."
   ]
  },
  {
   "cell_type": "code",
   "execution_count": 15,
   "metadata": {},
   "outputs": [
    {
     "data": {
      "text/html": [
       "<div>\n",
       "<style>\n",
       "    .dataframe thead tr:only-child th {\n",
       "        text-align: right;\n",
       "    }\n",
       "\n",
       "    .dataframe thead th {\n",
       "        text-align: left;\n",
       "    }\n",
       "\n",
       "    .dataframe tbody tr th {\n",
       "        vertical-align: top;\n",
       "    }\n",
       "</style>\n",
       "<table border=\"1\" class=\"dataframe\">\n",
       "  <thead>\n",
       "    <tr style=\"text-align: right;\">\n",
       "      <th></th>\n",
       "      <th>age</th>\n",
       "      <th>duration</th>\n",
       "      <th>campaign</th>\n",
       "      <th>pdays</th>\n",
       "      <th>previous</th>\n",
       "      <th>emp.var.rate</th>\n",
       "      <th>cons.price.idx</th>\n",
       "      <th>cons.conf.idx</th>\n",
       "      <th>euribor3m</th>\n",
       "      <th>nr.employed</th>\n",
       "    </tr>\n",
       "  </thead>\n",
       "  <tbody>\n",
       "    <tr>\n",
       "      <th>count</th>\n",
       "      <td>37069.000000</td>\n",
       "      <td>37069.000000</td>\n",
       "      <td>37069.000000</td>\n",
       "      <td>37069.000000</td>\n",
       "      <td>37069.000000</td>\n",
       "      <td>37069.000000</td>\n",
       "      <td>37069.000000</td>\n",
       "      <td>37069.000000</td>\n",
       "      <td>37069.000000</td>\n",
       "      <td>37069.000000</td>\n",
       "    </tr>\n",
       "    <tr>\n",
       "      <th>mean</th>\n",
       "      <td>40.043783</td>\n",
       "      <td>258.374868</td>\n",
       "      <td>2.573552</td>\n",
       "      <td>962.543419</td>\n",
       "      <td>0.172570</td>\n",
       "      <td>0.082759</td>\n",
       "      <td>93.575098</td>\n",
       "      <td>-40.502147</td>\n",
       "      <td>3.622370</td>\n",
       "      <td>5167.150813</td>\n",
       "    </tr>\n",
       "    <tr>\n",
       "      <th>std</th>\n",
       "      <td>10.395798</td>\n",
       "      <td>260.203020</td>\n",
       "      <td>2.786845</td>\n",
       "      <td>186.740644</td>\n",
       "      <td>0.494031</td>\n",
       "      <td>1.571270</td>\n",
       "      <td>0.579297</td>\n",
       "      <td>4.630409</td>\n",
       "      <td>1.733892</td>\n",
       "      <td>72.168914</td>\n",
       "    </tr>\n",
       "    <tr>\n",
       "      <th>min</th>\n",
       "      <td>17.000000</td>\n",
       "      <td>0.000000</td>\n",
       "      <td>1.000000</td>\n",
       "      <td>0.000000</td>\n",
       "      <td>0.000000</td>\n",
       "      <td>-3.400000</td>\n",
       "      <td>92.201000</td>\n",
       "      <td>-50.800000</td>\n",
       "      <td>0.634000</td>\n",
       "      <td>4963.600000</td>\n",
       "    </tr>\n",
       "    <tr>\n",
       "      <th>25%</th>\n",
       "      <td>32.000000</td>\n",
       "      <td>102.000000</td>\n",
       "      <td>1.000000</td>\n",
       "      <td>999.000000</td>\n",
       "      <td>0.000000</td>\n",
       "      <td>-1.800000</td>\n",
       "      <td>93.075000</td>\n",
       "      <td>-42.700000</td>\n",
       "      <td>1.344000</td>\n",
       "      <td>5099.100000</td>\n",
       "    </tr>\n",
       "    <tr>\n",
       "      <th>50%</th>\n",
       "      <td>38.000000</td>\n",
       "      <td>180.000000</td>\n",
       "      <td>2.000000</td>\n",
       "      <td>999.000000</td>\n",
       "      <td>0.000000</td>\n",
       "      <td>1.100000</td>\n",
       "      <td>93.749000</td>\n",
       "      <td>-41.800000</td>\n",
       "      <td>4.857000</td>\n",
       "      <td>5191.000000</td>\n",
       "    </tr>\n",
       "    <tr>\n",
       "      <th>75%</th>\n",
       "      <td>47.000000</td>\n",
       "      <td>320.000000</td>\n",
       "      <td>3.000000</td>\n",
       "      <td>999.000000</td>\n",
       "      <td>0.000000</td>\n",
       "      <td>1.400000</td>\n",
       "      <td>93.994000</td>\n",
       "      <td>-36.400000</td>\n",
       "      <td>4.961000</td>\n",
       "      <td>5228.100000</td>\n",
       "    </tr>\n",
       "    <tr>\n",
       "      <th>max</th>\n",
       "      <td>98.000000</td>\n",
       "      <td>4918.000000</td>\n",
       "      <td>56.000000</td>\n",
       "      <td>999.000000</td>\n",
       "      <td>7.000000</td>\n",
       "      <td>1.400000</td>\n",
       "      <td>94.767000</td>\n",
       "      <td>-26.900000</td>\n",
       "      <td>5.045000</td>\n",
       "      <td>5228.100000</td>\n",
       "    </tr>\n",
       "  </tbody>\n",
       "</table>\n",
       "</div>"
      ],
      "text/plain": [
       "                age      duration      campaign         pdays      previous  \\\n",
       "count  37069.000000  37069.000000  37069.000000  37069.000000  37069.000000   \n",
       "mean      40.043783    258.374868      2.573552    962.543419      0.172570   \n",
       "std       10.395798    260.203020      2.786845    186.740644      0.494031   \n",
       "min       17.000000      0.000000      1.000000      0.000000      0.000000   \n",
       "25%       32.000000    102.000000      1.000000    999.000000      0.000000   \n",
       "50%       38.000000    180.000000      2.000000    999.000000      0.000000   \n",
       "75%       47.000000    320.000000      3.000000    999.000000      0.000000   \n",
       "max       98.000000   4918.000000     56.000000    999.000000      7.000000   \n",
       "\n",
       "       emp.var.rate  cons.price.idx  cons.conf.idx     euribor3m   nr.employed  \n",
       "count  37069.000000    37069.000000   37069.000000  37069.000000  37069.000000  \n",
       "mean       0.082759       93.575098     -40.502147      3.622370   5167.150813  \n",
       "std        1.571270        0.579297       4.630409      1.733892     72.168914  \n",
       "min       -3.400000       92.201000     -50.800000      0.634000   4963.600000  \n",
       "25%       -1.800000       93.075000     -42.700000      1.344000   5099.100000  \n",
       "50%        1.100000       93.749000     -41.800000      4.857000   5191.000000  \n",
       "75%        1.400000       93.994000     -36.400000      4.961000   5228.100000  \n",
       "max        1.400000       94.767000     -26.900000      5.045000   5228.100000  "
      ]
     },
     "execution_count": 15,
     "metadata": {},
     "output_type": "execute_result"
    }
   ],
   "source": [
    "df.describe()"
   ]
  },
  {
   "cell_type": "markdown",
   "metadata": {},
   "source": [
    "### Insights from the descriptive statistics\n",
    "\n",
    ">#### Count(row number) is seen to be constant in all of the fields i.e. we have 37069 entries \n",
    ">#### Mean Age is aproximately 40 years old. (Minimum: 17 years old and Maximum: 98 years old) and together with the Standard Deviations of the fields etc.\n",
    "\n",
    "### Knowing the concise summary of the DataFrame is necessary for arriving at plausible solutions precisely.\n",
    "#### We use method prints information about a DataFrame including the index dtype and column dtypes, non-null values and memory usage."
   ]
  },
  {
   "cell_type": "code",
   "execution_count": 16,
   "metadata": {},
   "outputs": [
    {
     "name": "stdout",
     "output_type": "stream",
     "text": [
      "<class 'pandas.core.frame.DataFrame'>\n",
      "RangeIndex: 37069 entries, 0 to 37068\n",
      "Data columns (total 21 columns):\n",
      "age               37069 non-null int64\n",
      "job               37069 non-null object\n",
      "marital           37069 non-null object\n",
      "education         37069 non-null object\n",
      "default           37069 non-null object\n",
      "housing           37069 non-null object\n",
      "loan              37069 non-null object\n",
      "contact           37069 non-null object\n",
      "month             37069 non-null object\n",
      "day_of_week       37069 non-null object\n",
      "duration          37069 non-null int64\n",
      "campaign          37069 non-null int64\n",
      "pdays             37069 non-null int64\n",
      "previous          37069 non-null int64\n",
      "poutcome          37069 non-null object\n",
      "emp.var.rate      37069 non-null float64\n",
      "cons.price.idx    37069 non-null float64\n",
      "cons.conf.idx     37069 non-null float64\n",
      "euribor3m         37069 non-null float64\n",
      "nr.employed       37069 non-null float64\n",
      "y                 37069 non-null object\n",
      "dtypes: float64(5), int64(5), object(11)\n",
      "memory usage: 5.9+ MB\n",
      "None\n"
     ]
    }
   ],
   "source": [
    "print(df.info())"
   ]
  },
  {
   "cell_type": "markdown",
   "metadata": {},
   "source": [
    "#### Check to see if there are any missing values in our data set"
   ]
  },
  {
   "cell_type": "code",
   "execution_count": 17,
   "metadata": {},
   "outputs": [
    {
     "data": {
      "text/plain": [
       "age               False\n",
       "job               False\n",
       "marital           False\n",
       "education         False\n",
       "default           False\n",
       "housing           False\n",
       "loan              False\n",
       "contact           False\n",
       "month             False\n",
       "day_of_week       False\n",
       "duration          False\n",
       "campaign          False\n",
       "pdays             False\n",
       "previous          False\n",
       "poutcome          False\n",
       "emp.var.rate      False\n",
       "cons.price.idx    False\n",
       "cons.conf.idx     False\n",
       "euribor3m         False\n",
       "nr.employed       False\n",
       "y                 False\n",
       "dtype: bool"
      ]
     },
     "execution_count": 17,
     "metadata": {},
     "output_type": "execute_result"
    }
   ],
   "source": [
    "df.isnull().any()"
   ]
  },
  {
   "cell_type": "markdown",
   "metadata": {},
   "source": [
    "### Fortunately, there are no missing values. If there were missing values I will have to fill them with the median, mean or mode. I tend to use the median but in this scenario there is no need to fill any missing values. This will definitely make our job easier!\n",
    "\n",
    "### Nevertheless, it seems there is no mission value in any of the fields or columns but then, an insight reveals that the empty values were filled with \"unknowns\".\n",
    "<br>\n",
    "\n",
    "<i><font color=red size=4>Processing the data with \"unknowns\" might seem fine, but the semantic uniqueness and the pragmatic meaning might gear our learning models towards unrealistic results\n",
    "\n",
    "For instance, unknown in the 'marital' column might be represented as a new marital status and classified as such. Meanwhile, these unknowns may have belonged to any of the definite options: single, married or divorced. \n",
    "</font>\n",
    "</i>\n",
    "### With this in mind, I carefully noted it down as we might want to handle them properly during the data imputation, in order not to flout data semantics and pragmatics in the modeling."
   ]
  },
  {
   "cell_type": "markdown",
   "metadata": {},
   "source": [
    "***\n",
    ">### In accordance with the dataframe information we generated early on, memory is 5.9+ MB. In a corporate world, we would care much about memory optimization. Below, we would seek to optimize the memory usage to an extent.\n",
    "\n",
    "#### Verifying the memory usage of each column in bytes "
   ]
  },
  {
   "cell_type": "code",
   "execution_count": 18,
   "metadata": {},
   "outputs": [
    {
     "name": "stdout",
     "output_type": "stream",
     "text": [
      "Index                 80\n",
      "age               296552\n",
      "job               296552\n",
      "marital           296552\n",
      "education         296552\n",
      "default           296552\n",
      "housing           296552\n",
      "loan              296552\n",
      "contact           296552\n",
      "month             296552\n",
      "day_of_week       296552\n",
      "duration          296552\n",
      "campaign          296552\n",
      "pdays             296552\n",
      "previous          296552\n",
      "poutcome          296552\n",
      "emp.var.rate      296552\n",
      "cons.price.idx    296552\n",
      "cons.conf.idx     296552\n",
      "euribor3m         296552\n",
      "nr.employed       296552\n",
      "y                 296552\n",
      "dtype: int64\n",
      "----------------------------------------------------------------------------------------------------\n",
      "5.939170837402344  MB - Memory Allocation\n"
     ]
    }
   ],
   "source": [
    "print(df.memory_usage())\n",
    "print('-'*100)\n",
    "\n",
    "memory1 = df.memory_usage(index=True).sum()\n",
    "print(memory1/ 1024**2,\" MB - Memory Allocation\")"
   ]
  },
  {
   "cell_type": "markdown",
   "metadata": {},
   "source": [
    "### From the results above, I realized that the default memory allocation has been given and memory is about 5.93917 MB. Nevertheless, field like 'integers', 'floats' etc could have a reduced memory allocation if possible. (A background in Computer Engineering enables me to add this minor techniques but in relation to big data, this approach would really help).\n",
    "\n",
    "#### Hence, I seek to reduce memory allocation wherever possible by changing the datatypes to a optimized preference"
   ]
  },
  {
   "cell_type": "code",
   "execution_count": 19,
   "metadata": {},
   "outputs": [
    {
     "name": "stdout",
     "output_type": "stream",
     "text": [
      "Index                 80\n",
      "age               296552\n",
      "job               296552\n",
      "marital           296552\n",
      "education         296552\n",
      "default           296552\n",
      "housing           296552\n",
      "loan              296552\n",
      "contact           296552\n",
      "month             296552\n",
      "day_of_week       296552\n",
      "duration          296552\n",
      "campaign          296552\n",
      "pdays             296552\n",
      "previous          296552\n",
      "poutcome          296552\n",
      "emp.var.rate      148276\n",
      "cons.price.idx    148276\n",
      "cons.conf.idx     148276\n",
      "euribor3m         148276\n",
      "nr.employed       148276\n",
      "y                 296552\n",
      "dtype: int64\n",
      "----------------------------------------------------------------------------------------------------\n",
      "5.232135772705078  MB\n",
      "----------------------------------------------------------------------------------------------------\n",
      "We just saved: \n",
      "0.7070350646972656  MB - Optimized Memory Allocation\n",
      "----------------------------------------------------------------------------------------------------\n",
      "<class 'pandas.core.frame.DataFrame'>\n",
      "RangeIndex: 37069 entries, 0 to 37068\n",
      "Data columns (total 21 columns):\n",
      "age               37069 non-null int64\n",
      "job               37069 non-null object\n",
      "marital           37069 non-null object\n",
      "education         37069 non-null object\n",
      "default           37069 non-null object\n",
      "housing           37069 non-null object\n",
      "loan              37069 non-null object\n",
      "contact           37069 non-null object\n",
      "month             37069 non-null object\n",
      "day_of_week       37069 non-null object\n",
      "duration          37069 non-null int64\n",
      "campaign          37069 non-null int64\n",
      "pdays             37069 non-null int64\n",
      "previous          37069 non-null int64\n",
      "poutcome          37069 non-null object\n",
      "emp.var.rate      37069 non-null float32\n",
      "cons.price.idx    37069 non-null float32\n",
      "cons.conf.idx     37069 non-null float32\n",
      "euribor3m         37069 non-null float32\n",
      "nr.employed       37069 non-null float32\n",
      "y                 37069 non-null object\n",
      "dtypes: float32(5), int64(5), object(11)\n",
      "memory usage: 5.2+ MB\n",
      "None\n"
     ]
    }
   ],
   "source": [
    "def alter_datatype(df):\n",
    "    int_fields = list(df.select_dtypes(include=['int']).columns)\n",
    "    for field in int_fields:\n",
    "        if ((np.max(df[field]) <= 127) and(np.min(df[field] >= -128))):\n",
    "            df[field] = df[col].astype(np.int8)\n",
    "        elif ((np.max(df[field]) <= 32767) and(np.min(df[field] >= -32768))):\n",
    "            df[field] = df[field].astype(np.int16)\n",
    "        elif ((np.max(df[field]) <= 2147483647) and(np.min(df[field] >= -2147483648))):\n",
    "            df[field] = df[field].astype(np.int32)\n",
    "        else:\n",
    "            df[field] = df[field].astype(np.int64)\n",
    "\n",
    "# Calling the alteration function we above\n",
    "alter_datatype(df)\n",
    "\n",
    "def alter_datatype_float(df):\n",
    "    float_fields = list(df.select_dtypes(include=['float']).columns)\n",
    "    for field in float_fields:\n",
    "        df[field] = df[field].astype(np.float32)\n",
    "\n",
    "# Calling the alteration function we above\n",
    "alter_datatype_float(df)\n",
    "\n",
    "# Rechecking\n",
    "print(df.memory_usage())\n",
    "\n",
    "print('-'*100)\n",
    "memory2 = df.memory_usage(index=True).sum()\n",
    "print(memory2/ 1024**2,\" MB\")\n",
    "\n",
    "print('-'*100)\n",
    "\n",
    "print(\"We just saved: \")\n",
    "print((memory1-memory2)/ 1024**2,\" MB - Optimized Memory Allocation\")\n",
    "\n",
    "print('-'*100)\n",
    "print(df.info())"
   ]
  },
  {
   "cell_type": "markdown",
   "metadata": {},
   "source": [
    ">### I have optimized the allocation of data in the storage. Some floating point were in 64-bit. There were pushed to 32-bits.That's good for the whole practicality of this work.\n",
    "\n",
    "<i><font color=blue size=5>Now, the memory space is obtain 5.2+ MB after optimizing the allocation. That's great!</font></i>"
   ]
  },
  {
   "cell_type": "markdown",
   "metadata": {},
   "source": [
    "***\n",
    "### As highlighted early on, I have a number of fields that are non-numeric. Some algorithms find it difficult in computing some non-numeric variables so I will convert these variables into categorical variables\n",
    "\n",
    "### I will also do some renaming of the fields so I can easily express myself. Nice!."
   ]
  },
  {
   "cell_type": "code",
   "execution_count": 20,
   "metadata": {},
   "outputs": [
    {
     "name": "stdout",
     "output_type": "stream",
     "text": [
      "<class 'pandas.core.frame.DataFrame'>\n",
      "RangeIndex: 37069 entries, 0 to 37068\n",
      "Data columns (total 21 columns):\n",
      "age             37069 non-null int64\n",
      "job             37069 non-null int8\n",
      "marital         37069 non-null int8\n",
      "education       37069 non-null int8\n",
      "default         37069 non-null int8\n",
      "housing         37069 non-null int8\n",
      "loan            37069 non-null int8\n",
      "contact         37069 non-null int8\n",
      "month           37069 non-null int8\n",
      "dayOfWeek       37069 non-null int8\n",
      "duration        37069 non-null int64\n",
      "campaign        37069 non-null int64\n",
      "pdays           37069 non-null int64\n",
      "previous        37069 non-null int64\n",
      "poutcome        37069 non-null int8\n",
      "empVarRate      37069 non-null float32\n",
      "consPriceIdx    37069 non-null float32\n",
      "consConfIdx     37069 non-null float32\n",
      "euribor3m       37069 non-null float32\n",
      "numEmployed     37069 non-null float32\n",
      "y               37069 non-null int8\n",
      "dtypes: float32(5), int64(5), int8(11)\n",
      "memory usage: 2.5 MB\n"
     ]
    }
   ],
   "source": [
    "# Renaming certain columns for better readability\n",
    "df = df.rename(columns={'day_of_week': 'dayOfWeek', \n",
    "                        'emp.var.rate': 'empVarRate',\n",
    "                        'cons.price.idx': 'consPriceIdx',\n",
    "                        'cons.conf.idx': 'consConfIdx',\n",
    "                        'nr.employed': 'numEmployed'\n",
    "                        })\n",
    "\n",
    "df[\"job\"] = df[\"job\"].astype('category').cat.codes\n",
    "df[\"marital\"] = df[\"marital\"].astype('category').cat.codes\n",
    "df[\"education\"] = df[\"education\"].astype('category').cat.codes\n",
    "df[\"housing\"] = df[\"housing\"].astype('category').cat.codes\n",
    "df[\"loan\"] = df[\"loan\"].astype('category').cat.codes\n",
    "df[\"contact\"] = df[\"contact\"].astype('category').cat.codes\n",
    "df[\"default\"] = df[\"default\"].astype('category').cat.codes\n",
    "df[\"month\"] = df[\"month\"].astype('category').cat.codes\n",
    "df[\"dayOfWeek\"] = df[\"dayOfWeek\"].astype('category').cat.codes\n",
    "df[\"poutcome\"] = df[\"poutcome\"].astype('category').cat.codes\n",
    "df[\"y\"] = df[\"y\"].astype('category').cat.codes\n",
    "\n",
    "df.info()"
   ]
  },
  {
   "cell_type": "markdown",
   "metadata": {},
   "source": [
    "### Awesome! By changing the objects to int8's, I have even optimized the memory further. \n",
    "<i><font color=blue size=5>The memory space is now 2.5 MB! That's a huge improvement from 5.9+ MB.</font></i>"
   ]
  },
  {
   "cell_type": "markdown",
   "metadata": {},
   "source": [
    "### Lemme do check what's happening in the dataframe. Just viewing the top of the entries"
   ]
  },
  {
   "cell_type": "code",
   "execution_count": 21,
   "metadata": {},
   "outputs": [
    {
     "data": {
      "text/html": [
       "<div>\n",
       "<style>\n",
       "    .dataframe thead tr:only-child th {\n",
       "        text-align: right;\n",
       "    }\n",
       "\n",
       "    .dataframe thead th {\n",
       "        text-align: left;\n",
       "    }\n",
       "\n",
       "    .dataframe tbody tr th {\n",
       "        vertical-align: top;\n",
       "    }\n",
       "</style>\n",
       "<table border=\"1\" class=\"dataframe\">\n",
       "  <thead>\n",
       "    <tr style=\"text-align: right;\">\n",
       "      <th></th>\n",
       "      <th>age</th>\n",
       "      <th>job</th>\n",
       "      <th>marital</th>\n",
       "      <th>education</th>\n",
       "      <th>default</th>\n",
       "      <th>housing</th>\n",
       "      <th>loan</th>\n",
       "      <th>contact</th>\n",
       "      <th>month</th>\n",
       "      <th>dayOfWeek</th>\n",
       "      <th>...</th>\n",
       "      <th>campaign</th>\n",
       "      <th>pdays</th>\n",
       "      <th>previous</th>\n",
       "      <th>poutcome</th>\n",
       "      <th>empVarRate</th>\n",
       "      <th>consPriceIdx</th>\n",
       "      <th>consConfIdx</th>\n",
       "      <th>euribor3m</th>\n",
       "      <th>numEmployed</th>\n",
       "      <th>y</th>\n",
       "    </tr>\n",
       "  </thead>\n",
       "  <tbody>\n",
       "    <tr>\n",
       "      <th>0</th>\n",
       "      <td>26</td>\n",
       "      <td>0</td>\n",
       "      <td>2</td>\n",
       "      <td>6</td>\n",
       "      <td>0</td>\n",
       "      <td>0</td>\n",
       "      <td>0</td>\n",
       "      <td>1</td>\n",
       "      <td>1</td>\n",
       "      <td>1</td>\n",
       "      <td>...</td>\n",
       "      <td>1</td>\n",
       "      <td>3</td>\n",
       "      <td>1</td>\n",
       "      <td>2</td>\n",
       "      <td>-1.7</td>\n",
       "      <td>94.027000</td>\n",
       "      <td>-38.299999</td>\n",
       "      <td>0.904</td>\n",
       "      <td>4991.600098</td>\n",
       "      <td>1</td>\n",
       "    </tr>\n",
       "    <tr>\n",
       "      <th>1</th>\n",
       "      <td>35</td>\n",
       "      <td>1</td>\n",
       "      <td>1</td>\n",
       "      <td>7</td>\n",
       "      <td>0</td>\n",
       "      <td>2</td>\n",
       "      <td>0</td>\n",
       "      <td>0</td>\n",
       "      <td>6</td>\n",
       "      <td>2</td>\n",
       "      <td>...</td>\n",
       "      <td>3</td>\n",
       "      <td>999</td>\n",
       "      <td>0</td>\n",
       "      <td>1</td>\n",
       "      <td>-1.8</td>\n",
       "      <td>92.892998</td>\n",
       "      <td>-46.200001</td>\n",
       "      <td>1.327</td>\n",
       "      <td>5099.100098</td>\n",
       "      <td>1</td>\n",
       "    </tr>\n",
       "    <tr>\n",
       "      <th>2</th>\n",
       "      <td>42</td>\n",
       "      <td>6</td>\n",
       "      <td>1</td>\n",
       "      <td>6</td>\n",
       "      <td>0</td>\n",
       "      <td>2</td>\n",
       "      <td>0</td>\n",
       "      <td>0</td>\n",
       "      <td>0</td>\n",
       "      <td>3</td>\n",
       "      <td>...</td>\n",
       "      <td>1</td>\n",
       "      <td>999</td>\n",
       "      <td>1</td>\n",
       "      <td>0</td>\n",
       "      <td>-1.8</td>\n",
       "      <td>93.074997</td>\n",
       "      <td>-47.099998</td>\n",
       "      <td>1.423</td>\n",
       "      <td>5099.100098</td>\n",
       "      <td>1</td>\n",
       "    </tr>\n",
       "    <tr>\n",
       "      <th>3</th>\n",
       "      <td>46</td>\n",
       "      <td>3</td>\n",
       "      <td>1</td>\n",
       "      <td>3</td>\n",
       "      <td>0</td>\n",
       "      <td>2</td>\n",
       "      <td>0</td>\n",
       "      <td>0</td>\n",
       "      <td>1</td>\n",
       "      <td>0</td>\n",
       "      <td>...</td>\n",
       "      <td>1</td>\n",
       "      <td>999</td>\n",
       "      <td>0</td>\n",
       "      <td>1</td>\n",
       "      <td>-2.9</td>\n",
       "      <td>92.200996</td>\n",
       "      <td>-31.400000</td>\n",
       "      <td>0.881</td>\n",
       "      <td>5076.200195</td>\n",
       "      <td>1</td>\n",
       "    </tr>\n",
       "    <tr>\n",
       "      <th>4</th>\n",
       "      <td>41</td>\n",
       "      <td>7</td>\n",
       "      <td>2</td>\n",
       "      <td>3</td>\n",
       "      <td>0</td>\n",
       "      <td>2</td>\n",
       "      <td>2</td>\n",
       "      <td>0</td>\n",
       "      <td>0</td>\n",
       "      <td>4</td>\n",
       "      <td>...</td>\n",
       "      <td>2</td>\n",
       "      <td>999</td>\n",
       "      <td>0</td>\n",
       "      <td>1</td>\n",
       "      <td>-1.8</td>\n",
       "      <td>93.074997</td>\n",
       "      <td>-47.099998</td>\n",
       "      <td>1.415</td>\n",
       "      <td>5099.100098</td>\n",
       "      <td>1</td>\n",
       "    </tr>\n",
       "  </tbody>\n",
       "</table>\n",
       "<p>5 rows × 21 columns</p>\n",
       "</div>"
      ],
      "text/plain": [
       "   age  job  marital  education  default  housing  loan  contact  month  \\\n",
       "0   26    0        2          6        0        0     0        1      1   \n",
       "1   35    1        1          7        0        2     0        0      6   \n",
       "2   42    6        1          6        0        2     0        0      0   \n",
       "3   46    3        1          3        0        2     0        0      1   \n",
       "4   41    7        2          3        0        2     2        0      0   \n",
       "\n",
       "   dayOfWeek ...  campaign  pdays  previous  poutcome  empVarRate  \\\n",
       "0          1 ...         1      3         1         2        -1.7   \n",
       "1          2 ...         3    999         0         1        -1.8   \n",
       "2          3 ...         1    999         1         0        -1.8   \n",
       "3          0 ...         1    999         0         1        -2.9   \n",
       "4          4 ...         2    999         0         1        -1.8   \n",
       "\n",
       "   consPriceIdx  consConfIdx  euribor3m  numEmployed  y  \n",
       "0     94.027000   -38.299999      0.904  4991.600098  1  \n",
       "1     92.892998   -46.200001      1.327  5099.100098  1  \n",
       "2     93.074997   -47.099998      1.423  5099.100098  1  \n",
       "3     92.200996   -31.400000      0.881  5076.200195  1  \n",
       "4     93.074997   -47.099998      1.415  5099.100098  1  \n",
       "\n",
       "[5 rows x 21 columns]"
      ]
     },
     "execution_count": 21,
     "metadata": {},
     "output_type": "execute_result"
    }
   ],
   "source": [
    "df.head()"
   ]
  },
  {
   "cell_type": "markdown",
   "metadata": {},
   "source": [
    "***\n",
    "### Now, let's check the overview of the target data (field)"
   ]
  },
  {
   "cell_type": "code",
   "execution_count": 22,
   "metadata": {},
   "outputs": [
    {
     "data": {
      "text/html": [
       "<div>\n",
       "<style>\n",
       "    .dataframe thead tr:only-child th {\n",
       "        text-align: right;\n",
       "    }\n",
       "\n",
       "    .dataframe thead th {\n",
       "        text-align: left;\n",
       "    }\n",
       "\n",
       "    .dataframe tbody tr th {\n",
       "        vertical-align: top;\n",
       "    }\n",
       "</style>\n",
       "<table border=\"1\" class=\"dataframe\">\n",
       "  <thead>\n",
       "    <tr style=\"text-align: right;\">\n",
       "      <th></th>\n",
       "      <th>age</th>\n",
       "      <th>job</th>\n",
       "      <th>marital</th>\n",
       "      <th>education</th>\n",
       "      <th>default</th>\n",
       "      <th>housing</th>\n",
       "      <th>loan</th>\n",
       "      <th>contact</th>\n",
       "      <th>month</th>\n",
       "      <th>dayOfWeek</th>\n",
       "      <th>duration</th>\n",
       "      <th>campaign</th>\n",
       "      <th>pdays</th>\n",
       "      <th>previous</th>\n",
       "      <th>poutcome</th>\n",
       "      <th>empVarRate</th>\n",
       "      <th>consPriceIdx</th>\n",
       "      <th>consConfIdx</th>\n",
       "      <th>euribor3m</th>\n",
       "      <th>numEmployed</th>\n",
       "    </tr>\n",
       "    <tr>\n",
       "      <th>y</th>\n",
       "      <th></th>\n",
       "      <th></th>\n",
       "      <th></th>\n",
       "      <th></th>\n",
       "      <th></th>\n",
       "      <th></th>\n",
       "      <th></th>\n",
       "      <th></th>\n",
       "      <th></th>\n",
       "      <th></th>\n",
       "      <th></th>\n",
       "      <th></th>\n",
       "      <th></th>\n",
       "      <th></th>\n",
       "      <th></th>\n",
       "      <th></th>\n",
       "      <th></th>\n",
       "      <th></th>\n",
       "      <th></th>\n",
       "      <th></th>\n",
       "    </tr>\n",
       "  </thead>\n",
       "  <tbody>\n",
       "    <tr>\n",
       "      <th>0</th>\n",
       "      <td>39.924973</td>\n",
       "      <td>3.691625</td>\n",
       "      <td>1.162574</td>\n",
       "      <td>3.698037</td>\n",
       "      <td>0.224049</td>\n",
       "      <td>1.069163</td>\n",
       "      <td>0.327519</td>\n",
       "      <td>0.390513</td>\n",
       "      <td>4.228455</td>\n",
       "      <td>1.998025</td>\n",
       "      <td>221.099611</td>\n",
       "      <td>2.640148</td>\n",
       "      <td>984.307676</td>\n",
       "      <td>0.131822</td>\n",
       "      <td>0.913456</td>\n",
       "      <td>0.250234</td>\n",
       "      <td>93.603607</td>\n",
       "      <td>-40.596561</td>\n",
       "      <td>3.812850</td>\n",
       "      <td>5176.290039</td>\n",
       "    </tr>\n",
       "    <tr>\n",
       "      <th>1</th>\n",
       "      <td>40.983417</td>\n",
       "      <td>3.942322</td>\n",
       "      <td>1.252103</td>\n",
       "      <td>4.094208</td>\n",
       "      <td>0.095169</td>\n",
       "      <td>1.100457</td>\n",
       "      <td>0.312665</td>\n",
       "      <td>0.171113</td>\n",
       "      <td>4.196828</td>\n",
       "      <td>2.067532</td>\n",
       "      <td>553.172795</td>\n",
       "      <td>2.046864</td>\n",
       "      <td>790.416967</td>\n",
       "      <td>0.494833</td>\n",
       "      <td>1.062245</td>\n",
       "      <td>-1.241745</td>\n",
       "      <td>93.349617</td>\n",
       "      <td>-39.755444</td>\n",
       "      <td>2.115928</td>\n",
       "      <td>5094.873535</td>\n",
       "    </tr>\n",
       "  </tbody>\n",
       "</table>\n",
       "</div>"
      ],
      "text/plain": [
       "         age       job   marital  education   default   housing      loan  \\\n",
       "y                                                                           \n",
       "0  39.924973  3.691625  1.162574   3.698037  0.224049  1.069163  0.327519   \n",
       "1  40.983417  3.942322  1.252103   4.094208  0.095169  1.100457  0.312665   \n",
       "\n",
       "    contact     month  dayOfWeek    duration  campaign       pdays  previous  \\\n",
       "y                                                                              \n",
       "0  0.390513  4.228455   1.998025  221.099611  2.640148  984.307676  0.131822   \n",
       "1  0.171113  4.196828   2.067532  553.172795  2.046864  790.416967  0.494833   \n",
       "\n",
       "   poutcome  empVarRate  consPriceIdx  consConfIdx  euribor3m  numEmployed  \n",
       "y                                                                           \n",
       "0  0.913456    0.250234     93.603607   -40.596561   3.812850  5176.290039  \n",
       "1  1.062245   -1.241745     93.349617   -39.755444   2.115928  5094.873535  "
      ]
     },
     "execution_count": 22,
     "metadata": {},
     "output_type": "execute_result"
    }
   ],
   "source": [
    "turnover_Summary = df.groupby('y')\n",
    "turnover_Summary.mean()"
   ]
  },
  {
   "cell_type": "markdown",
   "metadata": {},
   "source": [
    "### It can be observed that the duration mean of 'yes' (1) are far greater than 'no' (0).\n",
    ">#### Lemme do some semantic analysis over here! \n",
    "> Unfortunately, the duration of the client is not known, until you make the call and after you end the conversation.  To create > a model that would aid the corporation in realizing potential attributes that person who signup possesses, 'duration' is surely not a factor. It is best to drop it.\n",
    "\n",
    "#### Aside, 'duration', the mean of previous seem to also make an impact in the 'yes'. Nevetherless, this is barely anything to base the reality on. Therefore, we conduct a further analysis to mine deeper insights  on the data "
   ]
  },
  {
   "cell_type": "markdown",
   "metadata": {},
   "source": [
    "### We can start out and review the spread of each attribute by looking at box and whisker plots."
   ]
  },
  {
   "cell_type": "code",
   "execution_count": 23,
   "metadata": {},
   "outputs": [
    {
     "data": {
      "text/plain": [
       "<matplotlib.axes._subplots.AxesSubplot at 0x257ea87d9b0>"
      ]
     },
     "execution_count": 23,
     "metadata": {},
     "output_type": "execute_result"
    },
    {
     "data": {
      "image/png": "[encoded data removed]",
      "text/plain": [
       "<matplotlib.figure.Figure at 0x257ea87db38>"
      ]
     },
     "metadata": {},
     "output_type": "display_data"
    }
   ],
   "source": [
    "import matplotlib.pyplot as plt\n",
    "pd.options.display.mpl_style = 'default'\n",
    "df.boxplot()"
   ]
  },
  {
   "cell_type": "markdown",
   "metadata": {},
   "source": [
    "***\n",
    "### Let's have a look at the histogram distribution of the data\n",
    ">### This would let us note interesting properties of the attribute distributions such as the possible normal distribution of attributes"
   ]
  },
  {
   "cell_type": "code",
   "execution_count": 24,
   "metadata": {},
   "outputs": [
    {
     "data": {
      "image/png": "[encoded data removed]",
      "text/plain": [
       "<matplotlib.figure.Figure at 0x257eadd8da0>"
      ]
     },
     "metadata": {},
     "output_type": "display_data"
    }
   ],
   "source": [
    "import matplotlib.pyplot as plt\n",
    "plt.style.use('seaborn-whitegrid')\n",
    "\n",
    "df.hist(bins=20, figsize=(18,10), color='red')\n",
    "plt.show()"
   ]
  },
  {
   "cell_type": "markdown",
   "metadata": {},
   "source": [
    "***\n",
    "### Next, an essential relationship to explore how each attribute is related to the target attribute. The first 20 is for the first class, and the last, is for the second class"
   ]
  },
  {
   "cell_type": "code",
   "execution_count": 25,
   "metadata": {},
   "outputs": [
    {
     "data": {
      "image/png": "[encoded data removed]",
      "text/plain": [
       "<matplotlib.figure.Figure at 0x257eb224278>"
      ]
     },
     "metadata": {},
     "output_type": "display_data"
    },
    {
     "data": {
      "image/png": "[encoded data removed]",
      "text/plain": [
       "<matplotlib.figure.Figure at 0x257ec0ebcf8>"
      ]
     },
     "metadata": {},
     "output_type": "display_data"
    }
   ],
   "source": [
    "import matplotlib.pyplot as plt\n",
    "plt.style.use('seaborn-whitegrid')\n",
    "\n",
    "df.groupby('y').hist(bins=20, figsize=(18,10), color='blue')\n",
    "plt.show()"
   ]
  },
  {
   "cell_type": "markdown",
   "metadata": {},
   "source": [
    "***\n",
    "### In order to clear assess each variable and the target class, let take our time to view their distributions"
   ]
  },
  {
   "cell_type": "code",
   "execution_count": 26,
   "metadata": {},
   "outputs": [
    {
     "data": {
      "image/png": "[encoded data removed]",
      "text/plain": [
       "<matplotlib.figure.Figure at 0x257ee99a128>"
      ]
     },
     "metadata": {},
     "output_type": "display_data"
    }
   ],
   "source": [
    "import matplotlib.pyplot as plt\n",
    "plt.style.use('seaborn-whitegrid')\n",
    "\n",
    "df.groupby('y').age.hist(bins=20, figsize=(6,5), color='blue', alpha=0.4)\n",
    "plt.show()"
   ]
  },
  {
   "cell_type": "markdown",
   "metadata": {},
   "source": [
    "### Job vs Target"
   ]
  },
  {
   "cell_type": "code",
   "execution_count": 27,
   "metadata": {},
   "outputs": [
    {
     "data": {
      "image/png": "[encoded data removed]",
      "text/plain": [
       "<matplotlib.figure.Figure at 0x257ee4a7c50>"
      ]
     },
     "metadata": {},
     "output_type": "display_data"
    }
   ],
   "source": [
    "import matplotlib.pyplot as plt\n",
    "plt.style.use('seaborn-whitegrid')\n",
    "\n",
    "df.groupby('y').job.hist(bins=20, figsize=(6,5), color='blue', alpha=0.4)\n",
    "plt.show()"
   ]
  },
  {
   "cell_type": "markdown",
   "metadata": {},
   "source": [
    "### Marital vs Target"
   ]
  },
  {
   "cell_type": "code",
   "execution_count": 28,
   "metadata": {},
   "outputs": [
    {
     "data": {
      "image/png": "[encoded data removed]",
      "text/plain": [
       "<matplotlib.figure.Figure at 0x257ee5f8be0>"
      ]
     },
     "metadata": {},
     "output_type": "display_data"
    }
   ],
   "source": [
    "import matplotlib.pyplot as plt\n",
    "plt.style.use('seaborn-whitegrid')\n",
    "\n",
    "df.groupby('y').marital.hist(bins=20, figsize=(6,5), color='blue', alpha=0.4)\n",
    "plt.show()"
   ]
  },
  {
   "cell_type": "markdown",
   "metadata": {},
   "source": [
    "### Education vs Target"
   ]
  },
  {
   "cell_type": "code",
   "execution_count": 29,
   "metadata": {},
   "outputs": [
    {
     "data": {
      "image/png": "[encoded data removed]",
      "text/plain": [
       "<matplotlib.figure.Figure at 0x257ee75d198>"
      ]
     },
     "metadata": {},
     "output_type": "display_data"
    }
   ],
   "source": [
    "import matplotlib.pyplot as plt\n",
    "plt.style.use('seaborn-whitegrid')\n",
    "\n",
    "df.groupby('y').education.hist(bins=20, figsize=(6,5), color='blue', alpha=0.4)\n",
    "plt.show()"
   ]
  },
  {
   "cell_type": "markdown",
   "metadata": {},
   "source": [
    "### Default vs Target"
   ]
  },
  {
   "cell_type": "code",
   "execution_count": 30,
   "metadata": {},
   "outputs": [
    {
     "data": {
      "image/png": "[encoded data removed]",
      "text/plain": [
       "<matplotlib.figure.Figure at 0x257eef56f98>"
      ]
     },
     "metadata": {},
     "output_type": "display_data"
    }
   ],
   "source": [
    "import matplotlib.pyplot as plt\n",
    "plt.style.use('seaborn-whitegrid')\n",
    "\n",
    "df.groupby('y').default.hist(bins=20, figsize=(6,5), color='blue', alpha=0.4)\n",
    "plt.show()"
   ]
  },
  {
   "cell_type": "markdown",
   "metadata": {},
   "source": [
    "### Housing vs Target"
   ]
  },
  {
   "cell_type": "code",
   "execution_count": 31,
   "metadata": {},
   "outputs": [
    {
     "data": {
      "image/png": "[encoded data removed]",
      "text/plain": [
       "<matplotlib.figure.Figure at 0x257eb26c668>"
      ]
     },
     "metadata": {},
     "output_type": "display_data"
    }
   ],
   "source": [
    "import matplotlib.pyplot as plt\n",
    "plt.style.use('seaborn-whitegrid')\n",
    "\n",
    "df.groupby('y').housing.hist(bins=20, figsize=(6,5), color='blue', alpha=0.4)\n",
    "plt.show()"
   ]
  },
  {
   "cell_type": "code",
   "execution_count": null,
   "metadata": {
    "collapsed": true
   },
   "outputs": [],
   "source": []
  }
 ],
 "metadata": {
  "kernelspec": {
   "display_name": "Python 3",
   "language": "python",
   "name": "python3"
  },
  "language_info": {
   "codemirror_mode": {
    "name": "ipython",
    "version": 3
   },
   "file_extension": ".py",
   "mimetype": "text/x-python",
   "name": "python",
   "nbconvert_exporter": "python",
   "pygments_lexer": "ipython3",
   "version": "3.6.6"
  }
 },
 "nbformat": 4,
 "nbformat_minor": 2
}
