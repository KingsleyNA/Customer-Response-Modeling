{
 "cells": [
  {
   "cell_type": "markdown",
   "metadata": {},
   "source": [
    "#  1  PROBLEM DEFINITION\n",
    "***\n",
    "## Project Summary:\n",
    ">###   The project is about designing a customer response model with high differentiation \n",
    ">###   power and high precision by analyzing customer's multi-dimensional banking \n",
    ">###   information and customer behavior characteristics, using data analysis and \n",
    ">###   advanced machine learning algorithms. \n",
    "<br>\n",
    "\n",
    "***\n",
    "## Main Task:\n",
    ">###    A dataset which is related to direct marketing campaigns (phone calls) of a banking institution is given. \n",
    "###     The business problem is to predict whether the client will subscribe to a term deposit.\n",
    "<br>\n",
    "\n",
    "***\n",
    "## Main Objective:\n",
    "### We create the objective that: \n",
    ">### the company wants to understand what factors contributed most to deposits signups and to create a model that can predict if a potential person, during a future compaign will signup for a deposit or not. \n",
    "<br>    \n",
    "\n",
    "***\n",
    "###  <i>This work take an in-depth analyses using state-of-the-art methods towards achieving the most promising insight to the bank in the end. Overall, the implementation of this model will allow management to create better decision-making actions.</i> "
   ]
  },
  {
   "cell_type": "code",
   "execution_count": null,
   "metadata": {
    "collapsed": true
   },
   "outputs": [],
   "source": []
  }
 ],
 "metadata": {
  "kernelspec": {
   "display_name": "Python 3",
   "language": "python",
   "name": "python3"
  },
  "language_info": {
   "codemirror_mode": {
    "name": "ipython",
    "version": 3
   },
   "file_extension": ".py",
   "mimetype": "text/x-python",
   "name": "python",
   "nbconvert_exporter": "python",
   "pygments_lexer": "ipython3",
   "version": "3.6.6"
  }
 },
 "nbformat": 4,
 "nbformat_minor": 2
}
