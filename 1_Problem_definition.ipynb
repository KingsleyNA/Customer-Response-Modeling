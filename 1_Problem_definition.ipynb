
#  1  PROBLEM DEFINITION
***
## Project Summary:
>###   The project is about designing a customer response model with high differentiation 
>###   power and high precision by analyzing customer's multi-dimensional banking 
>###   information and customer behavior characteristics, using data analysis and 
>###   advanced machine learning algorithms. 
<br>

***
## Main Task:
>###    A dataset which is related to direct marketing campaigns (phone calls) of a banking institution is given. 
###     The business problem is to predict whether the client will subscribe to a term deposit.
<br>

***
## Main Objective:
### We create the objective that: 
>### the company wants to understand what factors contributed most to deposits signups and to create a model that can predict if a potential person, during a future compaign will signup for a deposit or not. 
<br>    

***
###  <i>This work take an in-depth analyses using state-of-the-art methods towards achieving the most promising insight to the bank in the end. Overall, the implementation of this model will allow management to create better decision-making actions.</i> 