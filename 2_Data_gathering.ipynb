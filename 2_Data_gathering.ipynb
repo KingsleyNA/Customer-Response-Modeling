{
 "cells": [
  {
   "cell_type": "markdown",
   "metadata": {},
   "source": [
    "#                 2     DATA GATHERING\n",
    "***\n",
    "### We intended to use known robust processes to wrangle the data, such as the data architecture,\n",
    "### governance and extraction but fortunately, ANZ and DataCastle provided a dataset\n",
    "###  link on Baidu servers and hence, no heavy data mining approach is used at this stage. \n",
    "###  Just download. Easy right? \n",
    "<br>\n",
    "\n",
    "***\n",
    "### The link is: https://pan.baidu.com/s/1tkCG1jlLfEo49sgGaBy72Q . \n",
    "### The fetch code is j52p\n",
    "\n",
    "### <i>This gives me huge headstart to manipulate the data well to meet the deadline unlike the case where I'm to mine the data by all by myself. Yay!!!</i>\n",
    "### Nevertheless, you can download the dataset from elsewhere or the dataset included in the repository. \n",
    "<br>\n",
    "\n",
    "***\n",
    "## Proceed to the 3rd notebook (Data Preparation for an indepth analysis) \n",
    "## Let's enjoy a deep dive ...!\n",
    "***\n"
   ]
  }
 ],
 "metadata": {
  "kernelspec": {
   "display_name": "Python 3",
   "language": "python",
   "name": "python3"
  },
  "language_info": {
   "codemirror_mode": {
    "name": "ipython",
    "version": 3
   },
   "file_extension": ".py",
   "mimetype": "text/x-python",
   "name": "python",
   "nbconvert_exporter": "python",
   "pygments_lexer": "ipython3",
   "version": "3.6.6"
  }
 },
 "nbformat": 4,
 "nbformat_minor": 2
}
